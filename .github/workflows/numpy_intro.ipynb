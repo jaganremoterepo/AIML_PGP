{
 "cells": [
  {
   "cell_type": "code",
   "execution_count": 4,
   "metadata": {
    "collapsed": true
   },
   "outputs": [],
   "source": [
    "import numpy as np"
   ]
  },
  {
   "cell_type": "code",
   "execution_count": 5,
   "metadata": {},
   "outputs": [
    {
     "name": "stdout",
     "output_type": "stream",
     "text": [
      "5.2\n",
      "-1.0\n",
      "1.1\n"
     ]
    }
   ],
   "source": [
    "print(np.log(np.exp(5.2)))\n",
    "print(np.cos(np.pi))\n",
    "print(np.sqrt(1.21))"
   ]
  },
  {
   "cell_type": "code",
   "execution_count": 11,
   "metadata": {},
   "outputs": [
    {
     "name": "stdout",
     "output_type": "stream",
     "text": [
      "[1 2 3]\n",
      "[[1 2 3]\n",
      " [1 2 3]\n",
      " [1 2 3]]\n",
      "[[1 1 1]\n",
      " [2 2 2]\n",
      " [3 3 3]]\n",
      "[[1 1 1]\n",
      " [2 2 2]\n",
      " [3 3 3]]\n"
     ]
    }
   ],
   "source": [
    "array=np.array([1,2,3])\n",
    "print(array)\n",
    "\n",
    "matrix = np.array([[1,2,3],[1,2,3],[1,2,3]])\n",
    "print(matrix)\n",
    "print(np.transpose(matrix))\n",
    "print(matrix.T)"
   ]
  },
  {
   "cell_type": "code",
   "execution_count": 46,
   "metadata": {},
   "outputs": [
    {
     "name": "stdout",
     "output_type": "stream",
     "text": [
      "[ 0  1  2  3  4  5  6  7  8  9 10 11 12 13 14 15 16 17 18 19]\n",
      "[ 0  4  8 12 16]\n",
      "[  6.  12.  18.]\n"
     ]
    }
   ],
   "source": [
    "array2=np.arange(0,20)\n",
    "print(array2)\n",
    "array3=np.arange(0,20,4)\n",
    "print(array3)\n",
    "array4=np.linspace(6,18,3)\n",
    "print(array4)"
   ]
  },
  {
   "cell_type": "code",
   "execution_count": 26,
   "metadata": {},
   "outputs": [
    {
     "name": "stdout",
     "output_type": "stream",
     "text": [
      "[[ 0  1  2  3]\n",
      " [ 4  5  6  7]\n",
      " [ 8  9 10 11]\n",
      " [12 13 14 15]\n",
      " [16 17 18 19]]\n",
      "[[ 0.  0.  0.  0.]\n",
      " [ 0.  0.  0.  0.]\n",
      " [ 0.  0.  0.  0.]\n",
      " [ 0.  0.  0.  0.]\n",
      " [ 0.  0.  0.  0.]]\n",
      "[[ 1.  1.  1.  1.]\n",
      " [ 1.  1.  1.  1.]\n",
      " [ 1.  1.  1.  1.]\n",
      " [ 1.  1.  1.  1.]\n",
      " [ 1.  1.  1.  1.]]\n",
      "[[ 1.  0.  0.  0.  0.]\n",
      " [ 0.  1.  0.  0.  0.]\n",
      " [ 0.  0.  1.  0.  0.]\n",
      " [ 0.  0.  0.  1.  0.]\n",
      " [ 0.  0.  0.  0.  1.]]\n"
     ]
    }
   ],
   "source": [
    "print(array2.reshape(5,4))\n",
    "print(np.zeros([5,4]))\n",
    "print(np.ones([5,4]))\n",
    "#5*5 identity matrix\n",
    "print(np.eye(5))"
   ]
  },
  {
   "cell_type": "code",
   "execution_count": 34,
   "metadata": {},
   "outputs": [
    {
     "name": "stdout",
     "output_type": "stream",
     "text": [
      "[[ 190  196  202  208  214]\n",
      " [ 630  652  674  696  718]\n",
      " [1070 1108 1146 1184 1222]\n",
      " [1510 1564 1618 1672 1726]\n",
      " [1950 2020 2090 2160 2230]]\n"
     ]
    }
   ],
   "source": [
    "#matrix multiplication\n",
    "matrix5by5 = np.arange(0,20).reshape(5,4)\n",
    "matrix5by5_2 = np.arange(20,40).reshape(4,5)\n",
    "product = np.matmul(matrix5by5,matrix5by5_2)\n",
    "print(product)\n",
    "#print(np.linalg.solve(matrix5by5,product))\n"
   ]
  },
  {
   "cell_type": "code",
   "execution_count": 47,
   "metadata": {},
   "outputs": [
    {
     "name": "stdout",
     "output_type": "stream",
     "text": [
      "[[ 0.24124676  0.39315023  0.59947643  0.71386888]\n",
      " [ 0.27493241  0.51339805  0.55164542  0.98031676]\n",
      " [ 0.82931883  0.66085705  0.77093374  0.75092704]\n",
      " [ 0.8615711   0.82603268  0.6904396   0.03951685]]\n",
      "[[-0.40565811  1.36401632  0.47429195 -0.26354613]\n",
      " [ 0.68737963  0.78018123 -1.29851774  0.3007676 ]\n",
      " [-1.03337847 -1.12070026 -0.65721357  0.36493139]\n",
      " [-0.55825252  0.7916202   0.8091892   1.05446662]]\n",
      "0.0805985840684\n",
      "0.816520570343\n",
      "0.0805985840684\n",
      "1.36401632069\n"
     ]
    }
   ],
   "source": [
    "matrixrandom = np.random.rand(4,4)\n",
    "#uniform random variable from 0 to 1\n",
    "print(matrixrandom)\n",
    "\n",
    "#standard random matrix mean zero variance 1\n",
    "matrixrandomn = np.random.randn(4,4)\n",
    "print(matrixrandomn)\n",
    "print(np.mean(matrixrandomn))\n",
    "print(np.std(matrixrandomn))\n",
    "print(np.mean(matrixrandomn))\n",
    "print(np.max(matrixrandomn))"
   ]
  },
  {
   "cell_type": "code",
   "execution_count": 58,
   "metadata": {},
   "outputs": [
    {
     "name": "stdout",
     "output_type": "stream",
     "text": [
      "[ 0.91678147  0.33661036 -0.31108679 -0.07978864  0.45962425 -0.36384215\n",
      "  0.18225441  0.62566071 -0.69294424  0.42379215 -0.50464164  0.35106318\n",
      " -0.76104346  0.2993386  -0.24413045  0.78413354 -1.01261365  0.2505791\n",
      "  0.76725224 -0.01830819]\n",
      "0.423792147276\n",
      "[ 0.18225441  0.62566071 -0.69294424  0.42379215 -0.50464164  0.35106318]\n",
      "[ True  True False False  True False  True  True False  True False  True\n",
      " False  True False  True False  True  True False]\n",
      "[ 0.91678147  0.33661036  0.45962425  0.18225441  0.62566071  0.42379215\n",
      "  0.35106318  0.2993386   0.78413354  0.2505791   0.76725224]\n"
     ]
    }
   ],
   "source": [
    "#How to access vector members in numpy array\n",
    "numpyarr=np.random.randn(20)\n",
    "print(numpyarr)\n",
    "print(numpyarr[9])\n",
    "print(numpyarr[6:12])\n",
    "print(numpyarr>0)\n",
    "print(numpyarr[numpyarr>0])"
   ]
  },
  {
   "cell_type": "code",
   "execution_count": null,
   "metadata": {
    "collapsed": true
   },
   "outputs": [],
   "source": []
  }
 ],
 "metadata": {
  "kernelspec": {
   "display_name": "Python 3",
   "language": "python",
   "name": "python3"
  },
  "language_info": {
   "codemirror_mode": {
    "name": "ipython",
    "version": 3
   },
   "file_extension": ".py",
   "mimetype": "text/x-python",
   "name": "python",
   "nbconvert_exporter": "python",
   "pygments_lexer": "ipython3",
   "version": "3.6.1"
  }
 },
 "nbformat": 4,
 "nbformat_minor": 2
}
