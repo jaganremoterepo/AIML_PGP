{
 "cells": [
  {
   "cell_type": "code",
   "execution_count": 3,
   "metadata": {},
   "outputs": [
    {
     "data": {
      "text/plain": [
       "4"
      ]
     },
     "execution_count": 3,
     "metadata": {},
     "output_type": "execute_result"
    }
   ],
   "source": [
    "2+2"
   ]
  },
  {
   "cell_type": "markdown",
   "metadata": {
    "collapsed": true
   },
   "source": [
    "# content assist : tab key. To see the API : select the method than press Shit+tab"
   ]
  },
  {
   "cell_type": "markdown",
   "metadata": {},
   "source": [
    "cntrl + / key : comment the line"
   ]
  },
  {
   "cell_type": "code",
   "execution_count": null,
   "metadata": {
    "collapsed": true
   },
   "outputs": [],
   "source": [
    "# print"
   ]
  },
  {
   "cell_type": "code",
   "execution_count": 7,
   "metadata": {},
   "outputs": [
    {
     "name": "stdout",
     "output_type": "stream",
     "text": [
      "multiply by 3  9 assign a variable \n",
      "value of c  1.5\n"
     ]
    }
   ],
   "source": [
    "a=3\n",
    "b=2\n",
    "c=a/b\n",
    "print(\"multiply by 3 \", a*3 , \"assign a variable \")\n",
    "print()\n",
    "print(\"value of c \",c)"
   ]
  },
  {
   "cell_type": "code",
   "execution_count": 1,
   "metadata": {},
   "outputs": [
    {
     "name": "stdout",
     "output_type": "stream",
     "text": [
      "dam\n",
      "dam\n",
      "['python', 2, 2.5, ['ASSF', 'sdfsdf']]\n"
     ]
    }
   ],
   "source": [
    "# list[]\n",
    "dam=[\"dam\",\"python\",2,2.5,[\"ASSF\",\"sdfsdf\"]]\n",
    "print(dam[-5])\n",
    "\n",
    "print(dam(1:))\n",
    "\n",
    "print(dam[0])\n",
    "#pop\n",
    "dam.pop(0)\n",
    "print(dam)\n",
    "# tuple\n",
    "# set\n",
    "# dictionary"
   ]
  },
  {
   "cell_type": "code",
   "execution_count": 11,
   "metadata": {},
   "outputs": [
    {
     "name": "stdout",
     "output_type": "stream",
     "text": [
      "a\n",
      "{('a', 2, 4, 'sdfsdf', 4.5), 3.3, 5, 'water'}\n",
      "True\n"
     ]
    }
   ],
   "source": [
    "#Tuple cannot be modified\n",
    "tuple = (\"a\",2,4,\"sdfsdf\",4.5)\n",
    "print(tuple[0])\n",
    "#set no order whatsover\n",
    "set= {\"water\",3.3,5,5,tuple}\n",
    "#print(set[0])#TypeError: 'set' object does not support indexing\n",
    "print(set)\n",
    "print('water' in set)"
   ]
  },
  {
   "cell_type": "code",
   "execution_count": 13,
   "metadata": {},
   "outputs": [
    {
     "name": "stdout",
     "output_type": "stream",
     "text": [
      "{'model': 'apple', 'tuple': ('a', 2, 4, 'sdfsdf', 4.5), 'set': {('a', 2, 4, 'sdfsdf', 4.5), 3.3, 5, 'water'}}\n",
      "I bought an  apple\n"
     ]
    }
   ],
   "source": [
    "#Dictionary\n",
    "dictionary = {\n",
    "    \"model\":\"apple\",\n",
    "    \"tuple\": tuple,\n",
    "    \"set\":set\n",
    "    \n",
    "}\n",
    "print(dictionary)\n",
    "print(\"I bought an \",dictionary[\"model\"])"
   ]
  }
 ],
 "metadata": {
  "kernelspec": {
   "display_name": "Python 3",
   "language": "python",
   "name": "python3"
  },
  "language_info": {
   "codemirror_mode": {
    "name": "ipython",
    "version": 3
   },
   "file_extension": ".py",
   "mimetype": "text/x-python",
   "name": "python",
   "nbconvert_exporter": "python",
   "pygments_lexer": "ipython3",
   "version": "3.6.1"
  }
 },
 "nbformat": 4,
 "nbformat_minor": 2
}
